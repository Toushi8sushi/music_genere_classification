{
 "cells": [
  {
   "cell_type": "markdown",
   "id": "9a151963",
   "metadata": {},
   "source": [
    "### This file will help you pre process your image data to make it suitable for training "
   ]
  },
  {
   "cell_type": "code",
   "execution_count": 1,
   "id": "1d457ad7",
   "metadata": {},
   "outputs": [],
   "source": [
    "import os\n",
    "import numpy as np \n",
    "\n",
    "#to get training and test data\n",
    "from sklearn.model_selection import train_test_split\n",
    "# to work on images \n",
    "from PIL import Image"
   ]
  },
  {
   "cell_type": "code",
   "execution_count": 2,
   "id": "c46ab265",
   "metadata": {},
   "outputs": [],
   "source": [
    "# Path to the image folder -----------------------------------change this accordingly \n",
    "image_folder = r\"T:\\TOSHITH\\PROGRAMMING\\music_genere_classification\\images_original\""
   ]
  },
  {
   "cell_type": "markdown",
   "id": "74f0ece0",
   "metadata": {},
   "source": [
    "### Data Augmentation, in case you have less data set data_augmentation_flag to  True \n"
   ]
  },
  {
   "cell_type": "code",
   "execution_count": 3,
   "id": "3740492e",
   "metadata": {},
   "outputs": [],
   "source": [
    "data_augmentation_flag = False\n",
    "flag_rgb = True  # Set to True if you want RGB images"
   ]
  },
  {
   "cell_type": "code",
   "execution_count": 4,
   "id": "1af8c944",
   "metadata": {},
   "outputs": [],
   "source": [
    "#data augmentation \n",
    "from keras.preprocessing import image\n",
    "from tensorflow.keras.preprocessing.image import ImageDataGenerator"
   ]
  },
  {
   "cell_type": "code",
   "execution_count": 5,
   "id": "169c1076",
   "metadata": {},
   "outputs": [
    {
     "name": "stderr",
     "output_type": "stream",
     "text": [
      "<>:4: SyntaxWarning: invalid escape sequence '\\T'\n",
      "<>:6: SyntaxWarning: invalid escape sequence '\\T'\n",
      "<>:4: SyntaxWarning: invalid escape sequence '\\T'\n",
      "<>:6: SyntaxWarning: invalid escape sequence '\\T'\n",
      "C:\\Users\\toshi\\AppData\\Local\\Temp\\ipykernel_66448\\3334489436.py:4: SyntaxWarning: invalid escape sequence '\\T'\n",
      "  output_folder = 'T:\\TOSHITH\\PROGRAMMING\\music_genere_classification\\image_data_processed_rgb'\n",
      "C:\\Users\\toshi\\AppData\\Local\\Temp\\ipykernel_66448\\3334489436.py:6: SyntaxWarning: invalid escape sequence '\\T'\n",
      "  output_folder = 'T:\\TOSHITH\\PROGRAMMING\\music_genere_classification\\image_data_processed'\n"
     ]
    },
    {
     "name": "stdout",
     "output_type": "stream",
     "text": [
      "\n",
      "Total images saved (including augmentations): 999\n"
     ]
    }
   ],
   "source": [
    "image_counter = 0  # Track number of saved images\n",
    "\n",
    "if flag_rgb:\n",
    "    output_folder = 'T:\\TOSHITH\\PROGRAMMING\\music_genere_classification\\image_data_processed_rgb'\n",
    "else:\n",
    "    output_folder = 'T:\\TOSHITH\\PROGRAMMING\\music_genere_classification\\image_data_processed'\n",
    "    \n",
    "os.makedirs(output_folder, exist_ok=True)\n",
    "\n",
    "# Data Augmentation Configuration\n",
    "datagen = ImageDataGenerator(\n",
    "    rotation_range=20,\n",
    "    width_shift_range=0.1,\n",
    "    height_shift_range=0.1,\n",
    "    zoom_range=0.1,\n",
    "    horizontal_flip=True,\n",
    "    fill_mode='nearest'\n",
    ")\n",
    "\n",
    "# Main processing\n",
    "class_names = os.listdir(image_folder)\n",
    "class_names.sort()\n",
    "\n",
    "for label, class_name in enumerate(class_names):\n",
    "    class_path = os.path.join(image_folder, class_name)\n",
    "    if not os.path.isdir(class_path):\n",
    "        continue\n",
    "\n",
    "    label_path = os.path.join(output_folder, class_name)\n",
    "    os.makedirs(label_path, exist_ok=True)\n",
    "\n",
    "    for img_name in os.listdir(class_path):\n",
    "        img_path = os.path.join(class_path, img_name)\n",
    "        try:\n",
    "            img = Image.open(img_path)\n",
    "\n",
    "            # Convert to grayscale or RGB based on flag\n",
    "            img = img.convert('RGB') if flag_rgb else img.convert('L')\n",
    "            img = img.resize((432, 288))\n",
    "            img_array = np.array(img)\n",
    "\n",
    "            # Save original\n",
    "            save_path = os.path.join(label_path, f'image_{image_counter}.png')\n",
    "            Image.fromarray(img_array.astype(np.uint8)).save(save_path)\n",
    "            image_counter += 1\n",
    "\n",
    "            # Data Augmentation\n",
    "            if data_augmentation_flag:\n",
    "                if not flag_rgb:\n",
    "                    img_array_exp = np.expand_dims(img_array, axis=(0, -1))  # (1, 200, 200, 1)\n",
    "                else:\n",
    "                    img_array_exp = np.expand_dims(img_array, axis=0)       # (1, 200, 200, 3)\n",
    "\n",
    "                aug_iter = datagen.flow(img_array_exp, batch_size=1)\n",
    "\n",
    "                for _ in range(2):\n",
    "                    aug_image = next(aug_iter)[0].astype(np.uint8)\n",
    "                    if not flag_rgb:\n",
    "                        aug_image = aug_image.squeeze()  # remove channel dim\n",
    "                    aug_path = os.path.join(label_path, f'image_{image_counter}.png')\n",
    "                    Image.fromarray(aug_image).save(aug_path)\n",
    "                    image_counter += 1\n",
    "\n",
    "        except Exception as e:\n",
    "            print(f\"Failed to load {img_path}: {e}\")\n",
    "\n",
    "# Final count\n",
    "print(f\"\\nTotal images saved (including augmentations): {image_counter}\")"
   ]
  },
  {
   "cell_type": "code",
   "execution_count": 6,
   "id": "11336379",
   "metadata": {},
   "outputs": [
    {
     "name": "stdout",
     "output_type": "stream",
     "text": [
      "{'blues': 0, 'classical': 1, 'country': 2, 'disco': 3, 'hiphop': 4, 'jazz': 5, 'metal': 6, 'pop': 7, 'reggae': 8, 'rock': 9}\n"
     ]
    }
   ],
   "source": [
    "label_map = {class_name: label for label, class_name in enumerate(class_names)}\n",
    "print(label_map)"
   ]
  }
 ],
 "metadata": {
  "kernelspec": {
   "display_name": "Python 3",
   "language": "python",
   "name": "python3"
  },
  "language_info": {
   "codemirror_mode": {
    "name": "ipython",
    "version": 3
   },
   "file_extension": ".py",
   "mimetype": "text/x-python",
   "name": "python",
   "nbconvert_exporter": "python",
   "pygments_lexer": "ipython3",
   "version": "3.12.4"
  }
 },
 "nbformat": 4,
 "nbformat_minor": 5
}
